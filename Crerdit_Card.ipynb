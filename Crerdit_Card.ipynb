{
 "cells": [
  {
   "cell_type": "code",
   "execution_count": null,
   "metadata": {},
   "outputs": [],
   "source": [
    "# Import Libraries\n",
    "import pandas as pd\n",
    "import numpy as np\n",
    "import matplotlib.pyplot as plt\n",
    "import seaborn as sns"
   ]
  },
  {
   "cell_type": "code",
   "execution_count": null,
   "metadata": {},
   "outputs": [],
   "source": [
    "# Load the Dataset\n",
    "df = pd.read_csv('BankChurners.csv')"
   ]
  },
  {
   "cell_type": "code",
   "execution_count": null,
   "metadata": {},
   "outputs": [],
   "source": [
    "# Display the first few rows\n",
    "df.head(5)"
   ]
  },
  {
   "cell_type": "code",
   "execution_count": null,
   "metadata": {},
   "outputs": [],
   "source": [
    "# Data Overview\n",
    "df.info()\n",
    "df.describe()"
   ]
  },
  {
   "cell_type": "markdown",
   "metadata": {},
   "source": [
    "#### Visualization"
   ]
  },
  {
   "cell_type": "code",
   "execution_count": null,
   "metadata": {},
   "outputs": [],
   "source": [
    "# Churn Rate by Gender\n",
    "plt.figure(figsize=(8, 5))\n",
    "sns.countplot(x='Gender', hue='Attrition_Flag', data=df)  # Update to use Attrition_Flag\n",
    "plt.title('Churn Rate by Gender')\n",
    "plt.show()"
   ]
  },
  {
   "cell_type": "code",
   "execution_count": null,
   "metadata": {},
   "outputs": [],
   "source": [
    "# Age Distribution\n",
    "plt.figure(figsize=(8, 5))\n",
    "sns.histplot(df['Customer_Age'], bins=30)\n",
    "plt.title('Age Distribution')\n",
    "plt.show()\n",
    "# its a normal distribution"
   ]
  },
  {
   "cell_type": "code",
   "execution_count": null,
   "metadata": {},
   "outputs": [],
   "source": [
    "# Select only numeric columns for correlation\n",
    "numeric_df = df.select_dtypes(include=[np.number])\n",
    "\n",
    "# Calculate the correlation matrix\n",
    "correlation_matrix = numeric_df.corr()\n",
    "\n",
    "# Plotting the correlation heatmap\n",
    "plt.figure(figsize=(10, 8))\n",
    "sns.heatmap(correlation_matrix, annot=True, cmap='coolwarm', fmt='.2f')\n",
    "plt.title('Correlation Heatmap')\n",
    "plt.show()\n",
    "plt.savefig('Heatmap.png')"
   ]
  },
  {
   "cell_type": "code",
   "execution_count": null,
   "metadata": {},
   "outputs": [],
   "source": [
    "# Create a summary table for income category and attrition\n",
    "income_summary = df.groupby(['Attrition_Flag', 'Income_Category']).size().unstack()\n",
    "\n",
    "# Plotting the income distribution by Attrition Flag\n",
    "plt.figure(figsize=(12, 6))\n",
    "income_summary.plot(kind='bar', stacked=True)\n",
    "plt.title('Customer Attrition by Income Category')\n",
    "plt.xlabel('Income Category')\n",
    "plt.ylabel('Number of Customers')\n",
    "plt.xticks(rotation=45)\n",
    "plt.legend(title='Attrition Flag')\n",
    "plt.tight_layout()\n",
    "plt.show()\n"
   ]
  },
  {
   "cell_type": "code",
   "execution_count": null,
   "metadata": {},
   "outputs": [],
   "source": [
    "# Create a summary table for income category and attrition\n",
    "income_summary = df[df['Attrition_Flag'] == 'Attrited Customer'].groupby('Income_Category').size()\n",
    "\n",
    "# Plotting the pie chart for Attrited Customers\n",
    "plt.figure(figsize=(10, 10))\n",
    "plt.pie(income_summary, labels=income_summary.index, autopct='%1.1f%%', startangle=90, \n",
    "        shadow=True, colors=sns.color_palette(\"pastel\", len(income_summary)))\n",
    "plt.title('Income Category Distribution Among Attrited Customers')\n",
    "plt.axis('equal')  # Equal aspect ratio ensures that pie is drawn as a circle.\n",
    "\n",
    "# Add outline to the pie chart\n",
    "for wedge in plt.gca().patches:\n",
    "    wedge.set_edgecolor('black')\n",
    "\n",
    "plt.show()\n"
   ]
  },
  {
   "cell_type": "markdown",
   "metadata": {},
   "source": [
    "## Key Insights"
   ]
  },
  {
   "cell_type": "markdown",
   "metadata": {},
   "source": [
    "### - Pie Chart & Bar Chart"
   ]
  },
  {
   "cell_type": "markdown",
   "metadata": {},
   "source": [
    "##### -These 2 charts revealed which income category had the most attrited customers. So, for example, a large portion falls into the \"Less than $40K\" category, which means that people in this group are more likely to leave the bank."
   ]
  },
  {
   "cell_type": "markdown",
   "metadata": {},
   "source": [
    "### -Heat Map"
   ]
  },
  {
   "cell_type": "markdown",
   "metadata": {},
   "source": [
    "##### - The heatmap revealed the correlations between the columns , for instance :\n",
    "##### > it showed customer loyalty since as the total transaction count increased or the total amount changed increased , this will suggest that longer term customers tend to have more transactions ... AKA .. they spend more .\n",
    "##### > Also theres a relationship between Months on book and Credit limit , which implies that customers who have been in the bank longer have higher credit limit.\n"
   ]
  }
 ],
 "metadata": {
  "kernelspec": {
   "display_name": "base",
   "language": "python",
   "name": "python3"
  },
  "language_info": {
   "codemirror_mode": {
    "name": "ipython",
    "version": 3
   },
   "file_extension": ".py",
   "mimetype": "text/x-python",
   "name": "python",
   "nbconvert_exporter": "python",
   "pygments_lexer": "ipython3",
   "version": "3.12.4"
  }
 },
 "nbformat": 4,
 "nbformat_minor": 2
}
